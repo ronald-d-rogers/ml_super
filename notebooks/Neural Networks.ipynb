{
  "cells": [
    {
      "cell_type": "code",
      "execution_count": 1,
      "metadata": {},
      "outputs": [],
      "source": [
        "import os\n",
        "os.chdir(os.path.abspath('..'))"
      ]
    },
    {
      "cell_type": "markdown",
      "metadata": {},
      "source": [
        "## Playing the Animation\n",
        "\n",
        "### Chapters\n",
        "* logistic\n",
        "* xor\n",
        "* neural\n",
        "* weights"
      ]
    },
    {
      "cell_type": "code",
      "execution_count": null,
      "metadata": {},
      "outputs": [],
      "source": [
        "from animation import animate\n",
        "from animations import neural_networks\n",
        "\n",
        "frames = neural_networks.get_animation()\n",
        "\n",
        "animate(frames, show_model=True, show_components=False, show_tables=False, show_network=False, model_node=\"output_1\")"
      ]
    },
    {
      "cell_type": "markdown",
      "metadata": {},
      "source": [
        "## Rendering the Animation\n",
        "\n",
        "Due to issues with Plotly's artifacts during rendering we have to render each component individually and merge them into one video using ffmpeg\n",
        "\n",
        "### Required Software\n",
        "\n",
        "#### ImageMagick\n",
        "\n",
        "`brew install imagemagick`\n",
        "\n",
        "#### ffmpeg\n",
        "\n",
        "`brew install ffmpeg`"
      ]
    },
    {
      "cell_type": "code",
      "execution_count": 3,
      "metadata": {},
      "outputs": [],
      "source": [
        "render = False"
      ]
    },
    {
      "cell_type": "code",
      "execution_count": 4,
      "metadata": {},
      "outputs": [],
      "source": [
        "from animation import animate\n",
        "from animations import neural_networks\n",
        "\n",
        "if render:\n",
        "    frames = neural_networks.get_animation()\n",
        "    animate(frames, show_tables=False, render_path=\"renders/neural_networks\")\n",
        "    # animate(frames, show_calculations=False, show_network=False, show_components=True, render=\"renders/logistic_regression/w1\")\n",
        "    # animate(frames, show_calculations=False, show_network=False, show_components=(False, True, False), render=\"renders/logistic_regression/w2\")\n",
        "    # animate(frames, show_calculations=False, show_network=False, show_components=(False, False, True), render=\"renders/logistic_regression/bias\")"
      ]
    },
    {
      "cell_type": "code",
      "execution_count": 5,
      "metadata": {},
      "outputs": [],
      "source": [
        "import os\n",
        "import tqdm\n",
        "\n",
        "if render:\n",
        "    folders = ['logistic_regression/model', 'logistic_regression/bias', 'logistic_regression/w1', 'logistic_regression/w2']\n",
        "\n",
        "    for file in tqdm.tqdm(os.listdir(folders[0])):\n",
        "        if file.endswith('.png'):\n",
        "            files = [os.path.join(folder, file) for folder in folders]\n",
        "            os.system(f\"convert {' '.join(files)} -background white -layers Flatten logistic_regression/{file}\")"
      ]
    },
    {
      "cell_type": "code",
      "execution_count": 6,
      "metadata": {},
      "outputs": [],
      "source": [
        "import os\n",
        "import math\n",
        "\n",
        "if render:\n",
        "    # get the amount of png files in the folder\n",
        "    files = len([name for name in os.listdir('logistic_regression') if name.endswith('.png')])\n",
        "    frame_rate = math.ceil(files / 60)\n",
        "    os.system(f\"ffmpeg -y -r {frame_rate} -i logistic_regression/%03d.png -vcodec libx264 -pix_fmt yuv420p logistic_regression.mp4\")"
      ]
    }
  ],
  "metadata": {
    "colab": {
      "provenance": []
    },
    "kernelspec": {
      "display_name": "Python 3",
      "name": "python3"
    },
    "language_info": {
      "codemirror_mode": {
        "name": "ipython",
        "version": 3
      },
      "file_extension": ".py",
      "mimetype": "text/x-python",
      "name": "python",
      "nbconvert_exporter": "python",
      "pygments_lexer": "ipython3",
      "version": "3.10.13"
    }
  },
  "nbformat": 4,
  "nbformat_minor": 0
}

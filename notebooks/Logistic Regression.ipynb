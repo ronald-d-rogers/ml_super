{
  "cells": [
    {
      "cell_type": "code",
      "execution_count": null,
      "metadata": {},
      "outputs": [],
      "source": [
        "import os\n",
        "\n",
        "if os.getcwd().split('/')[-1] == 'notebooks':\n",
        "    os.chdir(os.path.dirname(os.path.abspath('')))"
      ]
    },
    {
      "cell_type": "code",
      "execution_count": null,
      "metadata": {},
      "outputs": [],
      "source": [
        "from animation import animate\n",
        "from animations import logistic_regression\n",
        "\n",
        "args = dict(\n",
        "    label_yshift=-200,\n",
        "    cost_label_yshift=700,\n",
        "    cost_label_xshift=80,\n",
        "    theme=\"dark\",\n",
        ")"
      ]
    },
    {
      "cell_type": "markdown",
      "metadata": {},
      "source": [
        "## Playing the Animation\n",
        "\n",
        "Unfortunately playing everything at once is quite slow, so below is just the model view of the \"fit\" and \"inference\" chapters.\n",
        "\n",
        "### Chapters\n",
        "* targets\n",
        "* logistic\n",
        "* weights\n",
        "* bias\n",
        "* fit\n",
        "* inference"
      ]
    },
    {
      "cell_type": "code",
      "execution_count": null,
      "metadata": {},
      "outputs": [],
      "source": [
        "frames = logistic_regression.get_animation(chapters=[\"targets\"])\n",
        "\n",
        "animate(frames, **args)"
      ]
    },
    {
      "cell_type": "code",
      "execution_count": null,
      "metadata": {},
      "outputs": [],
      "source": [
        "frames = logistic_regression.get_animation(chapters=[\"logistic\"])\n",
        "\n",
        "animate(frames, **args)"
      ]
    },
    {
      "cell_type": "code",
      "execution_count": null,
      "metadata": {},
      "outputs": [],
      "source": [
        "# frames = logistic_regression.get_animation(chapters=[\"weights\"])\n",
        "\n",
        "# animate(frames, **args)"
      ]
    },
    {
      "cell_type": "code",
      "execution_count": null,
      "metadata": {},
      "outputs": [],
      "source": [
        "# frames = logistic_regression.get_animation(chapters=[\"bias\"])\n",
        "\n",
        "# animate(frames, **args)"
      ]
    },
    {
      "cell_type": "code",
      "execution_count": null,
      "metadata": {},
      "outputs": [],
      "source": [
        "frames = logistic_regression.get_animation(chapters=[\"fit\", \"inference\"])\n",
        "\n",
        "animate(frames, **args)"
      ]
    },
    {
      "cell_type": "markdown",
      "metadata": {},
      "source": [
        "## Rendering the Animation\n",
        "\n",
        "Due to issues with Plotly's artifacts during rendering we have to render each component individually and merge them into one video using ffmpeg\n",
        "\n",
        "### Required Software\n",
        "\n",
        "#### ImageMagick\n",
        "\n",
        "`brew install imagemagick`\n",
        "\n",
        "#### ffmpeg\n",
        "\n",
        "`brew install ffmpeg`"
      ]
    },
    {
      "cell_type": "code",
      "execution_count": null,
      "metadata": {},
      "outputs": [],
      "source": [
        "render = False"
      ]
    },
    {
      "cell_type": "code",
      "execution_count": null,
      "metadata": {},
      "outputs": [],
      "source": [
        "from animation import animate\n",
        "from animations import logistic_regression\n",
        "\n",
        "if render:\n",
        "    frames = logistic_regression.get_animation()\n",
        "    animate(frames, show_network=False, show_components=False, render_path=\"renders/logistic_regression/model\")\n",
        "    animate(frames, show_calculations=False, show_network=False, show_components=(True, False, False), render_path=\"renders/logistic_regression/w1\")\n",
        "    animate(frames, show_calculations=False, show_network=False, show_components=(False, True, False), render_path=\"renders/logistic_regression/w2\")\n",
        "    animate(frames, show_calculations=False, show_network=False, show_components=(False, False, True), render_path=\"renders/logistic_regression/bias\")"
      ]
    },
    {
      "cell_type": "code",
      "execution_count": null,
      "metadata": {},
      "outputs": [],
      "source": [
        "import os\n",
        "import tqdm\n",
        "\n",
        "if render:\n",
        "    folders = ['logistic_regression/model', 'logistic_regression/bias', 'logistic_regression/w1', 'logistic_regression/w2']\n",
        "\n",
        "    for file in tqdm.tqdm(os.listdir(folders[0])):\n",
        "        if file.endswith('.png'):\n",
        "            files = [os.path.join(folder, file) for folder in folders]\n",
        "            os.system(f\"convert {' '.join(files)} -background white -layers Flatten logistic_regression/{file}\")"
      ]
    },
    {
      "cell_type": "code",
      "execution_count": null,
      "metadata": {},
      "outputs": [],
      "source": [
        "import os\n",
        "import math\n",
        "\n",
        "if render:\n",
        "    # get the amount of png files in the folder\n",
        "    files = len([name for name in os.listdir('logistic_regression') if name.endswith('.png')])\n",
        "    frame_rate = math.ceil(files / 60)\n",
        "    os.system(f\"ffmpeg -y -r {frame_rate} -i logistic_regression/%03d.png -vcodec libx264 -pix_fmt yuv420p logistic_regression.mp4\")"
      ]
    }
  ],
  "metadata": {
    "colab": {
      "provenance": []
    },
    "kernelspec": {
      "display_name": "Python 3",
      "name": "python3"
    },
    "language_info": {
      "codemirror_mode": {
        "name": "ipython",
        "version": 3
      },
      "file_extension": ".py",
      "mimetype": "text/x-python",
      "name": "python",
      "nbconvert_exporter": "python",
      "pygments_lexer": "ipython3",
      "version": "3.10.13"
    }
  },
  "nbformat": 4,
  "nbformat_minor": 0
}
